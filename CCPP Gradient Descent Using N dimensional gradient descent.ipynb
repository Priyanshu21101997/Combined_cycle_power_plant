{
 "cells": [
  {
   "cell_type": "code",
   "execution_count": 9,
   "metadata": {},
   "outputs": [],
   "source": [
    "import numpy as np\n",
    "data = np.loadtxt(\"ccpptrain.csv\",delimiter=\",\")\n",
    "x_train = data[:,0:4]\n",
    "ones = np.ones(len(xx),int).reshape(-1,1)\n",
    "\n",
    "y_train = data[:,4]\n",
    "\n",
    "test=np.loadtxt(\"ccpptest.csv\",delimiter=\",\")\n",
    "x_test=test[:,0:4]\n",
    "\n",
    "from sklearn.preprocessing import StandardScaler\n",
    "sc = StandardScaler()\n",
    "x_train_transformed=sc.fit_transform(x_train)\n",
    "x_test_transformed = sc.transform(x_test)\n",
    "\n",
    "x_train_final = np.hstack((x_train_transformed,ones))\n",
    "\n",
    "def cost(x, y, m):\n",
    "    N = len(x)\n",
    "    cost = 0\n",
    "    for i in range(N):\n",
    "        y_p = 0\n",
    "        for j in range(x.shape[1]):\n",
    "            y_p += x[i][j] * m[j] \n",
    "        cost += (1/N) * (y[i] - y_p) ** 2\n",
    "    return cost\n",
    "    \n",
    "def ans(x,y):\n",
    "    m = np.zeros(x.shape[1])\n",
    "    learning_rate=0.2\n",
    "    iterations=490\n",
    "    for k in range (iterations):\n",
    "        m_slope = np.zeros(x.shape[1])\n",
    "        N = len(x)\n",
    "        for i in range(len(m_slope)):\n",
    "            for j in range(N):\n",
    "                y_p =(m * x[j]).sum()\n",
    "                m_slope[i] += (-2/N) * (y[j] - y_p ) * x[j][i] \n",
    "\n",
    "        m= m - learning_rate * m_slope\n",
    "\n",
    "        co=cost(x,y,m)\n",
    "\n",
    "        print(\"M:\",\"Array\",k,'\\t',\"Cost:\",co,'\\t',\"Iteration:\",k)\n",
    "    return m\n",
    "\n",
    "M=ans(x_train_final,y_train)\n"
   ]
  },
  {
   "cell_type": "code",
   "execution_count": 12,
   "metadata": {},
   "outputs": [],
   "source": [
    "Y=[]\n",
    "for i in range (len(X)):\n",
    "    Y.append((M[0:4]*X[i]).sum()+M[4])\n",
    "save=np.savetxt(\"finalccppans2020.csv\",Y,delimiter=\",\",fmt='%1.10f')"
   ]
  },
  {
   "cell_type": "code",
   "execution_count": null,
   "metadata": {},
   "outputs": [],
   "source": []
  }
 ],
 "metadata": {
  "kernelspec": {
   "display_name": "Python 3",
   "language": "python",
   "name": "python3"
  },
  "language_info": {
   "codemirror_mode": {
    "name": "ipython",
    "version": 3
   },
   "file_extension": ".py",
   "mimetype": "text/x-python",
   "name": "python",
   "nbconvert_exporter": "python",
   "pygments_lexer": "ipython3",
   "version": "3.7.3"
  }
 },
 "nbformat": 4,
 "nbformat_minor": 2
}
